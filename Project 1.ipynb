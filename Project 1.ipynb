{
 "cells": [
  {
   "cell_type": "markdown",
   "metadata": {},
   "source": [
    "# Project 1\n",
    "## Projectile Motion: The Trajectory of a Cannon Shell"
   ]
  },
  {
   "cell_type": "code",
   "execution_count": 3,
   "metadata": {},
   "outputs": [],
   "source": [
    "import numpy as np\n",
    "import math\n",
    "import matplotlib.pyplot as plt\n",
    "%matplotlib inline\n",
    "\n",
    "def projectile_motion(delta_t,initial_v, theta, B_m = 0, target_altitude = 0, intitial_altitude = 0):\n",
    "    \n",
    "    '''Uses the input values to calculate the final position of a cannon fired at a given velocity and angle.\n",
    "    \n",
    "    input(s):\n",
    "    delta_t the time steps\n",
    "    initial_v the initial velocity of the projectile\n",
    "    initial_altitude the altitude with respect to sea level that the cannon is fired from\n",
    "    target_altitude the y position of the target we are trying to hit\n",
    "    \n",
    "    output(s):\n",
    "    the final x position of the cannon shell\n",
    "    ''' \n",
    "    \n",
    "    # This is where we set the initial positions and velocities of our cannon shell\n",
    "    x = []\n",
    "    y = []\n",
    "    x[0] = 0\n",
    "    y[0] = initial_altitude\n",
    "    x_velocity = initial_v*math.cos(theta)\n",
    "    y_velocity = initial_v*math.sin(theta) \n",
    "  \n",
    "    \n",
    "    # This is where we perform the Euler Equations\n",
    "    for i in range(1,10**6,1):\n",
    "        x.append(x[i-1] + x_velocity*delta_t)\n",
    "        y.append(y[i-1] + y_velocity*delta_t)\n",
    "        \n",
    "        # This is where we use the optional inputs to calculate the drag and gravity at different altitudes\n",
    "        f = B_m*math.sqrt((x_velocity**2)+ y_velocity**2)\n",
    "        gravity = 9.8\n",
    "        \n",
    "        # This is where we calculate the new velocities \n",
    "        y_velocity.append(y_velocity - gravity*delta_t - f*y_velocity*delta_t)\n",
    "        x_velocity.append(x_velocity -  f*x_velocity*delta_t)\n",
    "        \n",
    "        if y <= target_altitude:\n",
    "            break\n",
    "plt.plot        "
   ]
  }
 ],
 "metadata": {
  "kernelspec": {
   "display_name": "Python 3",
   "language": "python",
   "name": "python3"
  },
  "language_info": {
   "codemirror_mode": {
    "name": "ipython",
    "version": 3
   },
   "file_extension": ".py",
   "mimetype": "text/x-python",
   "name": "python",
   "nbconvert_exporter": "python",
   "pygments_lexer": "ipython3",
   "version": "3.4.5"
  }
 },
 "nbformat": 4,
 "nbformat_minor": 1
}
